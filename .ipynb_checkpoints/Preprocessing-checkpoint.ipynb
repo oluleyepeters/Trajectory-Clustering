{
 "cells": [
  {
   "cell_type": "code",
   "execution_count": 1,
   "id": "87f52748",
   "metadata": {},
   "outputs": [],
   "source": [
    "import skmob\n",
    "from skmob.preprocessing import detection, clustering, compression\n",
    "import numpy as np\n",
    "import geopandas as gpd\n",
    "import matplotlib.pyplot as plt\n",
    "import pandas as pd\n",
    "from skmob.tessellation import tilers\n",
    "from shapely.geometry import Point, Polygon\n",
    "import h3\n",
    "#import shapely\n",
    "import shapely.geometry\n",
    "from shapely.geometry import Point\n",
    "from shapely.geometry.polygon import Polygon\n",
    "import contextily as ctx"
   ]
  },
  {
   "cell_type": "code",
   "execution_count": 5,
   "id": "a0e3c659",
   "metadata": {},
   "outputs": [],
   "source": [
    "df = pd.read_csv('SanFranTrips.csv')\n",
    "df.drop('Unnamed: 0', axis=1, inplace=True)"
   ]
  },
  {
   "cell_type": "code",
   "execution_count": null,
   "id": "50c7519d",
   "metadata": {},
   "outputs": [],
   "source": [
    "%matplotlib inline\n",
    "\n",
    "#Import the polygon for our area of interest with geopandas\n",
    "sd = gpd.read_file(\"censustracts.geojson\")\n",
    "\n",
    "#Plot it to check it's been correctly ingested\n",
    "#ax2 = df.plot(kind='scatter', x='Longitude', y='latitude', color='g', ax=ax) \n",
    "ax = sd.plot(alpha=0.25, color=\"red\", figsize=(9, 9))\n",
    "ctx.add_basemap(ax, crs=sd.crs.to_string())"
   ]
  },
  {
   "cell_type": "code",
   "execution_count": 9,
   "id": "4c2e0dde",
   "metadata": {},
   "outputs": [
    {
     "data": {
      "text/plain": [
       "(242, 12)"
      ]
     },
     "execution_count": 9,
     "metadata": {},
     "output_type": "execute_result"
    }
   ],
   "source": [
    "sd.shape"
   ]
  },
  {
   "cell_type": "code",
   "execution_count": 4,
   "id": "bed15468",
   "metadata": {},
   "outputs": [],
   "source": [
    "h3_df = pd.DataFrame([],columns = ['h3_hex','h3_geo_boundary','h3_centroid'])"
   ]
  },
  {
   "cell_type": "code",
   "execution_count": 5,
   "id": "f5f8b58f",
   "metadata": {},
   "outputs": [],
   "source": [
    "for row in sd.itertuples():  \n",
    "    # Parse out info from columns of row\n",
    "    district_multipolygon = row.geometry\n",
    "    # Convert multi-polygon into list of polygons\n",
    "    district_polygon = (district_multipolygon.geoms) \n",
    "    for polygon in district_polygon:\n",
    "        # Convert Polygon to GeoJSON dictionary\n",
    "        poly_geojson = gpd.GeoSeries([polygon]).__geo_interface__\n",
    "        # Parse out geometry key from GeoJSON dictionary\n",
    "        poly_geojson = poly_geojson['features'][0]['geometry'] \n",
    "        # Fill the dictionary with Resolution 10 H3 Hexagons\n",
    "        h3_hexes = h3.polyfill_geojson(poly_geojson, 13) \n",
    "        for index,h3_hex in enumerate(h3_hexes):\n",
    "            h3_geo_boundary = shapely.geometry.Polygon(\n",
    "                h3.h3_to_geo_boundary(h3_hex,geo_json=True)\n",
    "            )\n",
    "            print(index)\n",
    "            h3_centroid = h3.h3_to_geo(h3_hex)\n",
    "            h3_df.loc[len(h3_df)]=[\n",
    "                h3_hex,\n",
    "                h3_geo_boundary,\n",
    "                h3_centroid\n",
    "            ]"
   ]
  },
  {
   "cell_type": "code",
   "execution_count": null,
   "id": "d4f17860",
   "metadata": {},
   "outputs": [],
   "source": [
    "#Import the polygon object from shapely\n",
    "from shapely.geometry import Polygon\n",
    "\n",
    "#Set up a simple lambda function that makes the geo_boundary call from a hex id\n",
    "polygonise = lambda hex_id: Polygon(h3.h3_to_geo_boundary(hex_id, geo_json=True))\n",
    "\n",
    "#Create a geodataframe and populate the geometrie field with the result of the polygonise function with the hexs variable for input\n",
    "all_polys = gpd.GeoSeries(list(map(polygonise, h3_df['h3_hex'])), index=h3_df['h3_hex'], crs=\"EPSG:4326\")\n",
    "\n",
    "#Plot it to see how it went\n",
    "ax = all_polys.plot(alpha=1, color=\"xkcd:brown\", figsize=(9, 9))"
   ]
  }
 ],
 "metadata": {
  "kernelspec": {
   "display_name": "Python 3 (ipykernel)",
   "language": "python",
   "name": "python3"
  },
  "language_info": {
   "codemirror_mode": {
    "name": "ipython",
    "version": 3
   },
   "file_extension": ".py",
   "mimetype": "text/x-python",
   "name": "python",
   "nbconvert_exporter": "python",
   "pygments_lexer": "ipython3",
   "version": "3.11.3"
  }
 },
 "nbformat": 4,
 "nbformat_minor": 5
}
